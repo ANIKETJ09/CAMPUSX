{
 "cells": [
  {
   "cell_type": "code",
   "execution_count": 2,
   "id": "c3acf761",
   "metadata": {},
   "outputs": [],
   "source": [
    "import numpy as np\n",
    "import pandas as pd\n",
    "import matplotlib.pyplot as plt"
   ]
  },
  {
   "cell_type": "code",
   "execution_count": null,
   "id": "cd1055df",
   "metadata": {},
   "outputs": [],
   "source": [
    "df=pd.read_csv('diabetes.csv')\n",
    "df.head()"
   ]
  },
  {
   "cell_type": "code",
   "execution_count": null,
   "id": "6cab83fa",
   "metadata": {},
   "outputs": [],
   "source": [
    "df.corr()['Outcome']"
   ]
  },
  {
   "cell_type": "code",
   "execution_count": 14,
   "id": "efa6c54e",
   "metadata": {},
   "outputs": [],
   "source": [
    "X=df.iloc[:,:-1].values\n",
    "y=df.iloc[:,-1].values"
   ]
  },
  {
   "cell_type": "code",
   "execution_count": 15,
   "id": "d67a9aa4",
   "metadata": {},
   "outputs": [],
   "source": [
    "from sklearn.preprocessing import StandardScaler\n",
    "scaler = StandardScaler()\n",
    "X = scaler.fit_transform(X)"
   ]
  },
  {
   "cell_type": "code",
   "execution_count": null,
   "id": "ff7d15b5",
   "metadata": {},
   "outputs": [],
   "source": [
    "X"
   ]
  },
  {
   "cell_type": "code",
   "execution_count": null,
   "id": "a41365ca",
   "metadata": {},
   "outputs": [],
   "source": [
    "X.shape"
   ]
  },
  {
   "cell_type": "code",
   "execution_count": 24,
   "id": "4d2fc39a",
   "metadata": {},
   "outputs": [],
   "source": [
    "from sklearn.model_selection import train_test_split\n",
    "\n",
    "X_train,X_test,y_train,y_test=train_test_split(X,y,test_size=0.2,random_state=1)"
   ]
  },
  {
   "cell_type": "code",
   "execution_count": 25,
   "id": "9b1ccb56",
   "metadata": {},
   "outputs": [],
   "source": [
    "import tensorflow\n",
    "from tensorflow import keras\n",
    "from keras import Sequential\n",
    "from keras.layers import Dense,Dropout"
   ]
  },
  {
   "cell_type": "code",
   "execution_count": 26,
   "id": "2cf86b35",
   "metadata": {},
   "outputs": [],
   "source": [
    "model=Sequential()\n",
    "model.add(Dense(32,activation='relu',input_dim=8))\n",
    "model.add(Dense(1,activation='sigmoid'))\n",
    "\n",
    "model.compile(optimizer='Adam',loss='binar_crossentropy',metrics=['accuracy'])"
   ]
  },
  {
   "cell_type": "code",
   "execution_count": null,
   "id": "3190af1b",
   "metadata": {},
   "outputs": [],
   "source": [
    "model.fit(X_train,y_train,batch_size=32,epochs=100,validation_data=(X_test,y_test))"
   ]
  },
  {
   "cell_type": "code",
   "execution_count": 30,
   "id": "c756fe6b",
   "metadata": {},
   "outputs": [],
   "source": [
    "# 1 How to select appropriate optimizer for model.\n",
    "# 2 How to select Number of nodes in a layer of model.\n",
    "# 3 How to select no. of layer in model.\n",
    "\n",
    "# 4 All above things in one model."
   ]
  },
  {
   "cell_type": "markdown",
   "id": "edc98ce0",
   "metadata": {},
   "source": [
    "## 1 How to select appropriate optimizer for model."
   ]
  },
  {
   "cell_type": "code",
   "execution_count": null,
   "id": "78e75ac4",
   "metadata": {},
   "outputs": [],
   "source": [
    "import kearstuner as kt\n",
    "\n",
    "def build_model(hp):\n",
    "    model=Sequential()\n",
    "    model.add(Dense(32,activation='relu',input_dim=8))\n",
    "    model.add(Dense(1,activation='sigmoid'))\n",
    "    \n",
    "    optimizer=hp.choice('optimizer',values=['adam','sgd','rmsprop','adadelta'])\n",
    "    \n",
    "    model.compile(optimizer=optimizer,loss='binar_crossentropy',metrics=['accuracy'])\n",
    "    \n",
    "    return model\n",
    "    "
   ]
  },
  {
   "cell_type": "code",
   "execution_count": null,
   "id": "bfd534c0",
   "metadata": {},
   "outputs": [],
   "source": [
    "tuner=kt.RandomSearch(build_model,objective='val_accuracy',max_trials=5)"
   ]
  },
  {
   "cell_type": "code",
   "execution_count": null,
   "id": "35355a3c",
   "metadata": {},
   "outputs": [],
   "source": [
    "tuner.search(X_train,y_train,epochs=5,validation_data=(X_test,y_test))"
   ]
  },
  {
   "cell_type": "code",
   "execution_count": null,
   "id": "f67c3300",
   "metadata": {},
   "outputs": [],
   "source": [
    "# Best Parameter from Above\n",
    "tuner.get_best_hyperparameters()[0].values"
   ]
  },
  {
   "cell_type": "code",
   "execution_count": null,
   "id": "dcbfdc87",
   "metadata": {},
   "outputs": [],
   "source": [
    "# Best Model from Above\n",
    "model=tuner.get_best_models(num_models=1)[0]"
   ]
  },
  {
   "cell_type": "code",
   "execution_count": null,
   "id": "3c0c7b56",
   "metadata": {},
   "outputs": [],
   "source": [
    "model.summary()"
   ]
  },
  {
   "cell_type": "code",
   "execution_count": null,
   "id": "049ccfeb",
   "metadata": {},
   "outputs": [],
   "source": [
    "model.fit(X_train,y_train,batch_size=32,epochs=100,inital_epoch=6,validation_data=(X_test,y_test))\n",
    "\n",
    "# Now,here this model will start from 6th epoch and run til 100th epoch because we have allready calculated \n",
    "# till 5th epoch. "
   ]
  },
  {
   "cell_type": "markdown",
   "id": "8fd8e7a8",
   "metadata": {},
   "source": [
    "## 2 How to select Number of nodes/Neuron/Perceptron in a layer of model."
   ]
  },
  {
   "cell_type": "code",
   "execution_count": null,
   "id": "b0a18fcf",
   "metadata": {},
   "outputs": [],
   "source": [
    "import kearstuner as kt\n",
    "\n",
    "def build_model(hp):\n",
    "    model=Sequential()\n",
    "    units=hp.Int('units',min_value=8,max_value=128,step=8)\n",
    "    model.add(Dense(32,activation='relu',input_dim=8))\n",
    "    model.add(Dense(1,activation='sigmoid'))\n",
    "    \n",
    "    model.compile(optimizer='rmsprop',loss='binar_crossentropy',metrics=['accuracy'])\n",
    "    \n",
    "    return model\n",
    "    "
   ]
  },
  {
   "cell_type": "code",
   "execution_count": null,
   "id": "9942ea8c",
   "metadata": {},
   "outputs": [],
   "source": [
    "tuner=kt.RandomSearch(build_model,objective='val_accuracy',max_trials=5,directory='mydir',project_name='keras tuner')"
   ]
  },
  {
   "cell_type": "code",
   "execution_count": null,
   "id": "1dcc5dfa",
   "metadata": {},
   "outputs": [],
   "source": [
    "tuner.search(X_train,y_train,epochs=5,validation_data=(X_test,y_test))"
   ]
  },
  {
   "cell_type": "code",
   "execution_count": null,
   "id": "a3aa2951",
   "metadata": {},
   "outputs": [],
   "source": [
    "# Best Parameter from Above\n",
    "tuner.get_best_hyperparameters()[0].values"
   ]
  },
  {
   "cell_type": "code",
   "execution_count": null,
   "id": "49becc8d",
   "metadata": {},
   "outputs": [],
   "source": [
    "# Best Model from Above\n",
    "model=tuner.get_best_models(num_models=1)[0]"
   ]
  },
  {
   "cell_type": "code",
   "execution_count": null,
   "id": "a73b2582",
   "metadata": {},
   "outputs": [],
   "source": [
    "model.summary()"
   ]
  },
  {
   "cell_type": "code",
   "execution_count": null,
   "id": "2361b880",
   "metadata": {},
   "outputs": [],
   "source": [
    "model.fit(X_train,y_train,batch_size=32,epochs=100,inital_epoch=6,validation_data=(X_test,y_test))"
   ]
  },
  {
   "cell_type": "markdown",
   "id": "9535191b",
   "metadata": {},
   "source": [
    "## 3 How to select no. of layer in model."
   ]
  },
  {
   "cell_type": "code",
   "execution_count": null,
   "id": "593eeff3",
   "metadata": {},
   "outputs": [],
   "source": [
    "import kearstuner as kt\n",
    "\n",
    "def build_model(hp):\n",
    "    \n",
    "    model=Sequential()\n",
    "    \n",
    "    # To reduce complexity and for understanding we are mentioning details of 1st layer.\n",
    "    \n",
    "    model.add(Dense(72,activation='relu',input_dim=8))# Just taking 72 as random value, initially. We will change \n",
    "                                                      # in future # after hy. para. tunning. Here we are focusing\n",
    "                                                      # on no. of layers. \n",
    "            \n",
    "    for i in range(hp.Int('num_layers',min_values=1,max_values=10)):\n",
    "    model.add(Dense(72,activation='relu') # Just taking 72 as random value, initially. We will change in future \n",
    "                                          # after hy. para. tunning. Here we are focusing on no. of layers.\n",
    "              \n",
    "    model.add(Dense(1,activation='sigmoid'))\n",
    "    \n",
    "    model.compile(optimizer='rmsprop',loss='binar_crossentropy',metrics=['accuracy'])\n",
    "    \n",
    "    return model"
   ]
  },
  {
   "cell_type": "code",
   "execution_count": null,
   "id": "452e0f4d",
   "metadata": {},
   "outputs": [],
   "source": [
    "tuner=kt.RandomSearch(build_model,objective='val_accuracy',max_trials=5,directory='mydir',project_name='keras tuner')"
   ]
  },
  {
   "cell_type": "code",
   "execution_count": null,
   "id": "ca7238e5",
   "metadata": {},
   "outputs": [],
   "source": [
    "tuner.search(X_train,y_train,epochs=5,validation_data=(X_test,y_test))"
   ]
  },
  {
   "cell_type": "code",
   "execution_count": null,
   "id": "96553be9",
   "metadata": {},
   "outputs": [],
   "source": [
    "# Best Parameter from Above\n",
    "tuner.get_best_hyperparameters()[0].values"
   ]
  },
  {
   "cell_type": "code",
   "execution_count": null,
   "id": "2d56dc7d",
   "metadata": {},
   "outputs": [],
   "source": [
    "# Best Model from Above\n",
    "model=tuner.get_best_models(num_models=1)[0]"
   ]
  },
  {
   "cell_type": "code",
   "execution_count": null,
   "id": "9b958c7c",
   "metadata": {},
   "outputs": [],
   "source": [
    "model.summary()"
   ]
  },
  {
   "cell_type": "code",
   "execution_count": null,
   "id": "d9536b8d",
   "metadata": {},
   "outputs": [],
   "source": [
    "model.fit(X_train,y_train,batch_size=32,epochs=100,inital_epoch=6,validation_data=(X_test,y_test))"
   ]
  },
  {
   "cell_type": "markdown",
   "id": "d386c745",
   "metadata": {},
   "source": [
    "## 4 All above things in one model."
   ]
  },
  {
   "cell_type": "code",
   "execution_count": null,
   "id": "7087f1a5",
   "metadata": {},
   "outputs": [],
   "source": [
    "import kearstuner as kt\n",
    "\n",
    "def build_model(hp):\n",
    "    \n",
    "    model=Sequential()\n",
    "    \n",
    "    counter=0\n",
    "    for i in range(hp.Int('num_layers',min_values=1,max_values=10))\n",
    "        \n",
    "        if counter==0:\n",
    "            \n",
    "            model.add(\n",
    "                Dense(\n",
    "                    hp.Int('Units' + str(i),min_values=8,max_values=128,step=8)\n",
    "                    activation=hp.choice('activation'+str(i), values=['relu','tanh','sigmoid']),\n",
    "                    input_dim=8))\n",
    "            model.add(Droupout(hp.choice('Droupout'+str(i),values=[0.1,0.2,0.3,0.4,0.5,0.6,0.7,0.8,0.9])))\n",
    "            else:\n",
    "                model.add(\n",
    "                Dense(\n",
    "                    hp.Int('Units' + str(i),min_values=8,max_values=128,step=8)\n",
    "                    activation=hp.choice('activation'+str(i), values=['relu','tanh','sigmoid'])\n",
    "                model.add(Droupout(hp.choice('Droupout'+str(i),values=[0.1,0.2,0.3,0.4,0.5,0.6,0.7,0.8,0.9])))    \n",
    "                ))\n",
    "        counter+=1\n",
    "                \n",
    "model.add(Dense(1,activation='sigmoid'))\n",
    "    \n",
    "model.compile(optimizer=hp.choice('optimizer',values=['rmsprop','adam','sgd','nadam','adadelta'])),\n",
    "                  loss='binar_crossentropy',metrics=['accuracy'])\n",
    "    \n",
    "return model\n",
    "    "
   ]
  },
  {
   "cell_type": "code",
   "execution_count": null,
   "id": "a16ba14d",
   "metadata": {},
   "outputs": [],
   "source": [
    "tuner=kt.RandomSearch(build_model,objective='val_accuracy',max_trials=3,directory='mydir',project_name='keras tuner1')"
   ]
  },
  {
   "cell_type": "code",
   "execution_count": null,
   "id": "0020a462",
   "metadata": {},
   "outputs": [],
   "source": [
    "tuner.search(X_train,y_train,epochs=5,validation_data=(X_test,y_test))"
   ]
  },
  {
   "cell_type": "code",
   "execution_count": null,
   "id": "4d62d9e7",
   "metadata": {},
   "outputs": [],
   "source": [
    "# Best Parameter from Above\n",
    "tuner.get_best_hyperparameters()[0].values"
   ]
  },
  {
   "cell_type": "code",
   "execution_count": null,
   "id": "ddce7f8f",
   "metadata": {},
   "outputs": [],
   "source": [
    "# Best Model from Above\n",
    "model=tuner.get_best_models(num_models=1)[0]"
   ]
  },
  {
   "cell_type": "code",
   "execution_count": null,
   "id": "53051ba5",
   "metadata": {},
   "outputs": [],
   "source": [
    "model.summary()"
   ]
  },
  {
   "cell_type": "code",
   "execution_count": null,
   "id": "c209e84f",
   "metadata": {},
   "outputs": [],
   "source": [
    "model.fit(X_train,y_train,epochs=100,inital_epoch=6,validation_data=(X_test,y_test))"
   ]
  }
 ],
 "metadata": {
  "kernelspec": {
   "display_name": "Python 3 (ipykernel)",
   "language": "python",
   "name": "python3"
  },
  "language_info": {
   "codemirror_mode": {
    "name": "ipython",
    "version": 3
   },
   "file_extension": ".py",
   "mimetype": "text/x-python",
   "name": "python",
   "nbconvert_exporter": "python",
   "pygments_lexer": "ipython3",
   "version": "3.9.12"
  }
 },
 "nbformat": 4,
 "nbformat_minor": 5
}
