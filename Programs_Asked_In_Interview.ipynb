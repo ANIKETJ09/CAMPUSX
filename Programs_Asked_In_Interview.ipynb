{
 "cells": [
  {
   "cell_type": "code",
   "execution_count": 2,
   "id": "12ff121a",
   "metadata": {},
   "outputs": [],
   "source": [
    "# https://pythontutor.com/python-debugger.html#mode=edit"
   ]
  },
  {
   "cell_type": "markdown",
   "id": "2cad2d07",
   "metadata": {},
   "source": [
    "## 1. login program and indentation."
   ]
  },
  {
   "cell_type": "code",
   "execution_count": 2,
   "id": "096fb27b",
   "metadata": {},
   "outputs": [
    {
     "name": "stdout",
     "output_type": "stream",
     "text": [
      "enter emailnitish.campusx@gmail.com\n",
      "enter password1234\n",
      "Welcome\n"
     ]
    }
   ],
   "source": [
    "# email -> nitish.campusx@gmail.com\n",
    "# password -> 1234\n",
    "\n",
    "email = input('enter email')\n",
    "password = input('enter password')\n",
    "\n",
    "if email == 'nitish.campusx@gmail.com' and password == '1234':\n",
    "  print('Welcome')\n",
    "elif email == 'nitish.campusx@gmail.com' and password != '1234':\n",
    "  # tell the user\n",
    "  print('Incorrect password')\n",
    "  password = input('enter password again')\n",
    "  if password == '1234':\n",
    "    print('Welcome,finally!')\n",
    "  else:\n",
    "    print('beta tumse na ho paayega!')\n",
    "else:\n",
    "  print('Not correct')"
   ]
  },
  {
   "cell_type": "markdown",
   "id": "b2c99e86",
   "metadata": {},
   "source": [
    "## 2. Find the min. of 3 given numbers."
   ]
  },
  {
   "cell_type": "code",
   "execution_count": 3,
   "id": "ac949312",
   "metadata": {},
   "outputs": [
    {
     "name": "stdout",
     "output_type": "stream",
     "text": [
      "first num889\n",
      "second num90\n",
      "third num999\n",
      "smallest is 90\n"
     ]
    }
   ],
   "source": [
    "# Min of 3 number\n",
    "a = int(input('first num'))\n",
    "b = int(input('second num'))\n",
    "c = int(input('third num'))\n",
    "\n",
    "if a<b and a<c:\n",
    "  print('smallest is',a)\n",
    "elif b<c:\n",
    "  print('smallest is',b)\n",
    "else:\n",
    "  print('smallest is',c)"
   ]
  },
  {
   "cell_type": "markdown",
   "id": "9b4b7350",
   "metadata": {},
   "source": [
    "## 3. Menu Driven Program."
   ]
  },
  {
   "cell_type": "code",
   "execution_count": 4,
   "id": "ab8a3392",
   "metadata": {},
   "outputs": [
    {
     "name": "stdout",
     "output_type": "stream",
     "text": [
      "\n",
      "Hi! how can I help you.\n",
      "1. Enter 1 for pin change\n",
      "2. Enter 2 for balance check\n",
      "3. Enter 3 for withdrawl\n",
      "4. Enter 4 for exit\n",
      "2\n",
      "balance\n"
     ]
    }
   ],
   "source": [
    "menu = input(\"\"\"\n",
    "Hi! how can I help you.\n",
    "1. Enter 1 for pin change\n",
    "2. Enter 2 for balance check\n",
    "3. Enter 3 for withdrawl\n",
    "4. Enter 4 for exit\n",
    "\"\"\")\n",
    "\n",
    "if menu == '1':\n",
    "  print('pin change')\n",
    "elif menu == '2':\n",
    "  print('balance')\n",
    "else:\n",
    "  print('exit')"
   ]
  },
  {
   "cell_type": "markdown",
   "id": "91146f5b",
   "metadata": {},
   "source": [
    "## 4. Program to print the table."
   ]
  },
  {
   "cell_type": "code",
   "execution_count": 1,
   "id": "747c8969",
   "metadata": {},
   "outputs": [
    {
     "name": "stdout",
     "output_type": "stream",
     "text": [
      "enter the number5\n",
      "5 * 1 = 5\n",
      "5 * 2 = 10\n",
      "5 * 3 = 15\n",
      "5 * 4 = 20\n",
      "5 * 5 = 25\n",
      "5 * 6 = 30\n",
      "5 * 7 = 35\n",
      "5 * 8 = 40\n",
      "5 * 9 = 45\n",
      "5 * 10 = 50\n"
     ]
    }
   ],
   "source": [
    "number = int(input('enter the number'))\n",
    "i = 1\n",
    "while i<11:\n",
    "  print(number,'*',i,'=',number * i)\n",
    "  i += 1"
   ]
  },
  {
   "cell_type": "markdown",
   "id": "baeee69a",
   "metadata": {},
   "source": [
    "## 5. keep accepting numbers from users till he/she enters a 0 and then find the avg."
   ]
  },
  {
   "cell_type": "code",
   "execution_count": null,
   "id": "50016b4b",
   "metadata": {},
   "outputs": [],
   "source": [
    "# Guessing game\n",
    "\n",
    "# Generate a random integer between 1 and 100.\n",
    "\n",
    "import random\n",
    "jackpot = random.randint(1,100)\n",
    "\n",
    "guess = int(input('guess karo'))\n",
    "counter = 1\n",
    "while guess != jackpot:\n",
    "    \n",
    "    if guess < jackpot:\n",
    "        print('galat!guess higher')\n",
    "    else:\n",
    "        print('galat!guess lower')\n",
    "\n",
    "    guess = int(input('guess karo'))\n",
    "    counter += 1\n",
    "\n",
    "else:\n",
    "    print('correct guess')\n",
    "    print('attempts',counter)"
   ]
  },
  {
   "cell_type": "markdown",
   "id": "04e881aa",
   "metadata": {},
   "source": [
    "## 6. Program - The current population of a town is 10000. The population of the town is increasing at the rate of 10% per year. You have to write a program to find out the population at the end of each of the last 10 years."
   ]
  },
  {
   "cell_type": "code",
   "execution_count": null,
   "id": "c54c76ce",
   "metadata": {},
   "outputs": [],
   "source": [
    "# Code Here\n",
    "curr_pop = 10000\n",
    "\n",
    "for i in range(10,0,-1):\n",
    "  print(i,curr_pop)\n",
    "  curr_pop = curr_pop/1.1"
   ]
  },
  {
   "cell_type": "markdown",
   "id": "91ca034f",
   "metadata": {},
   "source": [
    "## 7. Sequence sum\n",
    "\n",
    "## 1/1! + 2/2! + 3/3! + ..."
   ]
  },
  {
   "cell_type": "code",
   "execution_count": null,
   "id": "86209329",
   "metadata": {},
   "outputs": [],
   "source": [
    "# Code here\n",
    "n = int(input('enter n'))\n",
    "\n",
    "result = 0\n",
    "fact = 1\n",
    "\n",
    "for i in range(1,n+1):\n",
    "  fact = fact * i\n",
    "  result = result + i/fact\n",
    "\n",
    "print(result)"
   ]
  },
  {
   "cell_type": "markdown",
   "id": "cf1ebdae",
   "metadata": {},
   "source": [
    "## 8. Pattern\n",
    "\n",
    "##  * \n",
    "##  ** \n",
    "##  ***"
   ]
  },
  {
   "cell_type": "code",
   "execution_count": 1,
   "id": "f735c2ef",
   "metadata": {},
   "outputs": [
    {
     "name": "stdout",
     "output_type": "stream",
     "text": [
      "enter number of rows5\n",
      "*\n",
      "**\n",
      "***\n",
      "****\n",
      "*****\n"
     ]
    }
   ],
   "source": [
    "# Code here\n",
    "rows = int(input('enter number of rows'))\n",
    "\n",
    "for i in range(1,rows+1):\n",
    "  for j in range(1,i+1):\n",
    "    print('*',end='')\n",
    "  print()"
   ]
  },
  {
   "cell_type": "markdown",
   "id": "58cb396b",
   "metadata": {},
   "source": [
    "## 8.1 Pattern"
   ]
  },
  {
   "cell_type": "code",
   "execution_count": 5,
   "id": "6d79b8a9",
   "metadata": {},
   "outputs": [
    {
     "name": "stdout",
     "output_type": "stream",
     "text": [
      "enter number of rows5\n",
      "     *\n",
      "    **\n",
      "   ***\n",
      "  ****\n",
      " *****\n"
     ]
    }
   ],
   "source": [
    "rows = int(input('enter number of rows'))\n",
    "\n",
    "for i in range(rows):\n",
    "    \n",
    "    for j in range(i,rows):\n",
    "        print(' ',end='')\n",
    "    \n",
    "    for j in range(i+1):\n",
    "        print('*',end='')\n",
    "    print()"
   ]
  },
  {
   "cell_type": "markdown",
   "id": "5baab105",
   "metadata": {},
   "source": [
    "## 9. Pattern\n",
    "\n",
    "##     1\n",
    "##     121\n",
    "##     12321\n",
    "##     1234321"
   ]
  },
  {
   "cell_type": "code",
   "execution_count": null,
   "id": "985efa9b",
   "metadata": {},
   "outputs": [],
   "source": [
    "# Code here\n",
    "rows = int(input('enter number of rows'))\n",
    "\n",
    "for i in range(1,rows+1):\n",
    "  for j in range(1,i+1):\n",
    "    print(j,end='')\n",
    "  for k in range(i-1,0,-1):\n",
    "    print(k,end='')\n",
    "\n",
    "  print()"
   ]
  },
  {
   "cell_type": "code",
   "execution_count": 5,
   "id": "0d348403",
   "metadata": {},
   "outputs": [],
   "source": [
    "# Linear Searching is an example in which we use 'break' statement."
   ]
  },
  {
   "cell_type": "markdown",
   "id": "9c426623",
   "metadata": {},
   "source": [
    "## 10. Find Prime Number from Entered Number range."
   ]
  },
  {
   "cell_type": "code",
   "execution_count": null,
   "id": "0d2cbc9a",
   "metadata": {},
   "outputs": [],
   "source": [
    "lower = int(input('enter lower range'))\n",
    "upper = int(input('enter upper range'))\n",
    "\n",
    "for i in range(lower,upper+1):\n",
    "  for j in range(2,i):\n",
    "    if i%j == 0:\n",
    "      break\n",
    "  else:\n",
    "    print(i)"
   ]
  },
  {
   "cell_type": "code",
   "execution_count": null,
   "id": "f0594d57",
   "metadata": {},
   "outputs": [],
   "source": [
    "# https://docs.python.org/3.3/howto/unicode.html\n",
    "# Must read a blog from above link, atleat first 2 paragraph."
   ]
  },
  {
   "cell_type": "code",
   "execution_count": 6,
   "id": "b8525e6d",
   "metadata": {},
   "outputs": [
    {
     "name": "stdout",
     "output_type": "stream",
     "text": [
      "pune\n",
      "pune\n",
      "pune\n",
      "pune\n",
      "pune\n"
     ]
    }
   ],
   "source": [
    "# IMP\n",
    "for i in 'delhi':\n",
    "  print('pune')"
   ]
  },
  {
   "cell_type": "markdown",
   "id": "10f2f954",
   "metadata": {},
   "source": [
    "## 11. Find the length of a given string without using the len() function."
   ]
  },
  {
   "cell_type": "code",
   "execution_count": null,
   "id": "80259c75",
   "metadata": {},
   "outputs": [],
   "source": [
    "s = input('enter the string')\n",
    "\n",
    "counter = 0\n",
    "\n",
    "for i in s:\n",
    "  counter += 1\n",
    "\n",
    "print('length of string is',counter)"
   ]
  },
  {
   "cell_type": "markdown",
   "id": "4c137af8",
   "metadata": {},
   "source": [
    "## 12.\n",
    "\n",
    "## Extract username from a given email. \n",
    "## Ex. if the email is nitish24singh@gmail.com \n",
    "## then the username should be nitish24singh"
   ]
  },
  {
   "cell_type": "code",
   "execution_count": null,
   "id": "2d31053f",
   "metadata": {},
   "outputs": [],
   "source": [
    "s = input('enter the email')\n",
    "\n",
    "pos = s.index('@')\n",
    "print(s[0:pos])"
   ]
  },
  {
   "cell_type": "markdown",
   "id": "4471b3ae",
   "metadata": {},
   "source": [
    "## 13.\n",
    "\n",
    "## Count the frequency of a particular character in a provided string. \n",
    "## Eg 'hello how are you' is the string, the frequency of h in this string is 2."
   ]
  },
  {
   "cell_type": "code",
   "execution_count": null,
   "id": "cf65e44e",
   "metadata": {},
   "outputs": [],
   "source": [
    "s = input('enter the email')\n",
    "term = input('what would like to search for')\n",
    "\n",
    "counter = 0\n",
    "for i in s:\n",
    "  if i == term:\n",
    "    counter += 1\n",
    "\n",
    "print('frequency',counter)"
   ]
  },
  {
   "cell_type": "markdown",
   "id": "e5d36078",
   "metadata": {},
   "source": [
    "## 14. Write a program which can remove a particular character from a string."
   ]
  },
  {
   "cell_type": "code",
   "execution_count": null,
   "id": "c4d3d702",
   "metadata": {},
   "outputs": [],
   "source": [
    "s = input('enter the string')\n",
    "term = input('what would like to remove')\n",
    "\n",
    "result = ''\n",
    "\n",
    "for i in s:\n",
    "  if i != term:\n",
    "    result = result + i\n",
    "\n",
    "print(result)"
   ]
  },
  {
   "cell_type": "markdown",
   "id": "f6755eb2",
   "metadata": {},
   "source": [
    "## 15.  Write a program that can check whether a given string is palindrome or not.\n",
    "## abba\n",
    "## malayalam"
   ]
  },
  {
   "cell_type": "code",
   "execution_count": null,
   "id": "74615b5b",
   "metadata": {},
   "outputs": [],
   "source": [
    "s = input('enter the string')\n",
    "flag = True\n",
    "for i in range(0,len(s)//2):\n",
    "  if s[i] != s[len(s) - i -1]:\n",
    "    flag = False\n",
    "    print('Not a Palindrome')\n",
    "    break\n",
    "\n",
    "if flag:\n",
    "  print('Palindrome')"
   ]
  },
  {
   "cell_type": "markdown",
   "id": "7d0a64c9",
   "metadata": {},
   "source": [
    "## 16. Write a program to count the number of words in a string without split()"
   ]
  },
  {
   "cell_type": "code",
   "execution_count": null,
   "id": "16bf0aea",
   "metadata": {},
   "outputs": [],
   "source": [
    "s = input('enter the string')\n",
    "L = []\n",
    "temp = ''\n",
    "for i in s:\n",
    "\n",
    "  if i != ' ':\n",
    "    temp = temp + i\n",
    "  else:\n",
    "    L.append(temp)\n",
    "    temp = ''\n",
    "\n",
    "L.append(temp)\n",
    "print(L)"
   ]
  },
  {
   "cell_type": "markdown",
   "id": "9c53dcde",
   "metadata": {},
   "source": [
    "## 17. Write a python program to convert a string to title case without using the title()"
   ]
  },
  {
   "cell_type": "code",
   "execution_count": null,
   "id": "6783ed35",
   "metadata": {},
   "outputs": [],
   "source": [
    "s = input('enter the string')\n",
    "\n",
    "L = []\n",
    "for i in s.split():\n",
    "  L.append(i[0].upper() + i[1:].lower())\n",
    "\n",
    "print(\" \".join(L))"
   ]
  },
  {
   "cell_type": "markdown",
   "id": "7e5cca0e",
   "metadata": {},
   "source": [
    "## 18. Write a program that can convert an integer to string."
   ]
  },
  {
   "cell_type": "code",
   "execution_count": null,
   "id": "a6093724",
   "metadata": {},
   "outputs": [],
   "source": [
    "number = int(input('enter the number'))\n",
    "\n",
    "digits = '0123456789'\n",
    "result = ''\n",
    "while number != 0:\n",
    "  result = digits[number % 10] + result\n",
    "  number = number//10\n",
    "\n",
    "print(result)\n",
    "print(type(result))"
   ]
  },
  {
   "cell_type": "markdown",
   "id": "5d66aa89",
   "metadata": {},
   "source": [
    "## 19.Create 2 lists from a given list where 1st list will contain all the odd numbers from the original list and the 2nd one will contain all the even numbers."
   ]
  },
  {
   "cell_type": "code",
   "execution_count": null,
   "id": "19c046d9",
   "metadata": {},
   "outputs": [],
   "source": [
    "l_odd=[]\n",
    "l_even=[]\n",
    "\n",
    "L = [1,2,3,4,5,6]\n",
    "for i in L:\n",
    "    if i%2==0:\n",
    "        l_even.append(i)\n",
    "    else:\n",
    "        l_odd.append(i)\n",
    "print(l_odd)\n",
    "print(l_even)"
   ]
  },
  {
   "cell_type": "markdown",
   "id": "1b0b897a",
   "metadata": {},
   "source": [
    "## 20.Write a program to remove duplicate items from a list."
   ]
  },
  {
   "cell_type": "code",
   "execution_count": null,
   "id": "a083f7e2",
   "metadata": {},
   "outputs": [],
   "source": [
    "l1=[]\n",
    "L = [1,2,1,2,3,4,5,3,4]\n",
    "for item in L:\n",
    "    if item not in l1:\n",
    "        l1.append(item)\n",
    "l1"
   ]
  },
  {
   "cell_type": "markdown",
   "id": "336bb586",
   "metadata": {},
   "source": [
    "## 21. Number with it's square in dictionary format."
   ]
  },
  {
   "cell_type": "code",
   "execution_count": 1,
   "id": "efb0e5aa",
   "metadata": {},
   "outputs": [
    {
     "data": {
      "text/plain": [
       "{1: 1, 2: 4, 3: 9, 4: 16, 5: 25, 6: 36, 7: 49, 8: 64, 9: 81, 10: 100}"
      ]
     },
     "execution_count": 1,
     "metadata": {},
     "output_type": "execute_result"
    }
   ],
   "source": [
    "# Print 1st 10 numbers and their squares\n",
    "{i:i**2 for i in range(1,11)}"
   ]
  },
  {
   "cell_type": "markdown",
   "id": "9f9d4b8c",
   "metadata": {},
   "source": [
    "## 22. O/P of the following Code?"
   ]
  },
  {
   "cell_type": "code",
   "execution_count": null,
   "id": "55ce1306",
   "metadata": {},
   "outputs": [],
   "source": [
    "def f(x):\n",
    "   x = x + 1\n",
    "   print('in f(x): x =', x)\n",
    "   return x\n",
    "\n",
    "x = 3\n",
    "z = f(x)\n",
    "print('in main program scope: z =', z)\n",
    "print('in main program scope: x =', x)"
   ]
  },
  {
   "cell_type": "markdown",
   "id": "3fed800e",
   "metadata": {},
   "source": [
    "## 23. O/P of the following Code?"
   ]
  },
  {
   "cell_type": "code",
   "execution_count": null,
   "id": "b1438893",
   "metadata": {},
   "outputs": [],
   "source": [
    "def f():\n",
    "  def g():\n",
    "    print('inside function g')\n",
    "    f()\n",
    "  g()\n",
    "  print('ins"
   ]
  },
  {
   "cell_type": "markdown",
   "id": "82a4566c",
   "metadata": {},
   "source": [
    "## 24. O/P of the following Code?"
   ]
  },
  {
   "cell_type": "code",
   "execution_count": null,
   "id": "a66977e4",
   "metadata": {},
   "outputs": [],
   "source": [
    "def g(x):\n",
    "    def h():\n",
    "        x = 'abc'\n",
    "    x = x + 1\n",
    "    print('in g(x): x =', x)\n",
    "    h()\n",
    "    return x\n",
    "\n",
    "x = 3\n",
    "z = g(x)"
   ]
  },
  {
   "cell_type": "markdown",
   "id": "f56cb531",
   "metadata": {},
   "source": [
    "## 25. O/P of the following Code?"
   ]
  },
  {
   "cell_type": "code",
   "execution_count": null,
   "id": "5e28aad5",
   "metadata": {},
   "outputs": [],
   "source": [
    "def g(x):\n",
    "    def h(x):\n",
    "        x = x+1\n",
    "        print(\"in h(x): x = \", x)\n",
    "    x = x + 1\n",
    "    print('in g(x): x = ', x)\n",
    "    h(x)\n",
    "    return x\n",
    "\n",
    "x = 3\n",
    "z = g(x)\n",
    "print('in main program scope: x = ', x)\n",
    "print('in main program scope: z = ', z)"
   ]
  },
  {
   "cell_type": "markdown",
   "id": "31022d32",
   "metadata": {},
   "source": [
    "## 26. O/P of the following Code?"
   ]
  },
  {
   "cell_type": "code",
   "execution_count": null,
   "id": "6906a43e",
   "metadata": {},
   "outputs": [],
   "source": [
    "def func_a():\n",
    "    print('inside func_a')\n",
    "\n",
    "def func_b(z):\n",
    "    print('inside func_c')\n",
    "    return z()\n",
    "\n",
    "print(func_b(func_a))"
   ]
  }
 ],
 "metadata": {
  "kernelspec": {
   "display_name": "Python 3 (ipykernel)",
   "language": "python",
   "name": "python3"
  },
  "language_info": {
   "codemirror_mode": {
    "name": "ipython",
    "version": 3
   },
   "file_extension": ".py",
   "mimetype": "text/x-python",
   "name": "python",
   "nbconvert_exporter": "python",
   "pygments_lexer": "ipython3",
   "version": "3.9.12"
  }
 },
 "nbformat": 4,
 "nbformat_minor": 5
}
