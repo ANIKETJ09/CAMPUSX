{
 "cells": [
  {
   "cell_type": "code",
   "execution_count": null,
   "id": "a1ed8c45",
   "metadata": {},
   "outputs": [],
   "source": [
    "# https://resources.github.com/devops/process/planning/discussions/"
   ]
  },
  {
   "cell_type": "code",
   "execution_count": null,
   "id": "91895e0b",
   "metadata": {},
   "outputs": [],
   "source": [
    "# https://docs.github.com/en/issues/planning-and-tracking-with-projects/learning-about-projects/about-projects"
   ]
  },
  {
   "cell_type": "code",
   "execution_count": null,
   "id": "a79d0267",
   "metadata": {},
   "outputs": [],
   "source": [
    "# https://docs.github.com/en/actions/learn-github-actions/understanding-github-actions"
   ]
  },
  {
   "cell_type": "code",
   "execution_count": null,
   "id": "b04e3111",
   "metadata": {},
   "outputs": [],
   "source": [
    "# OPEN PDFs"
   ]
  }
 ],
 "metadata": {
  "kernelspec": {
   "display_name": "Python 3 (ipykernel)",
   "language": "python",
   "name": "python3"
  },
  "language_info": {
   "codemirror_mode": {
    "name": "ipython",
    "version": 3
   },
   "file_extension": ".py",
   "mimetype": "text/x-python",
   "name": "python",
   "nbconvert_exporter": "python",
   "pygments_lexer": "ipython3",
   "version": "3.9.12"
  }
 },
 "nbformat": 4,
 "nbformat_minor": 5
}
