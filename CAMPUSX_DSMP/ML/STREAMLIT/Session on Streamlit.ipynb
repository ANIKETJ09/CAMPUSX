{
 "cells": [
  {
   "cell_type": "code",
   "execution_count": null,
   "id": "329bca77",
   "metadata": {},
   "outputs": [],
   "source": [
    "# https://www.overleaf.com/learn/latex/Learn_LaTeX_in_30_minutes#What_is_LaTeX.3F"
   ]
  },
  {
   "cell_type": "code",
   "execution_count": null,
   "id": "9b63d1d3",
   "metadata": {},
   "outputs": [],
   "source": [
    "# https://www.markdownguide.org/basic-syntax/#images-1"
   ]
  },
  {
   "cell_type": "code",
   "execution_count": null,
   "id": "e70b1a24",
   "metadata": {},
   "outputs": [],
   "source": [
    "# https://www.markdownguide.org/basic-syntax/#images-1"
   ]
  },
  {
   "cell_type": "markdown",
   "id": "ffae955c",
   "metadata": {},
   "source": [
    "# Documentation\n",
    "\n",
    "###  https://docs.streamlit.io/library/api-reference"
   ]
  },
  {
   "cell_type": "code",
   "execution_count": null,
   "id": "92a52a14",
   "metadata": {},
   "outputs": [],
   "source": []
  }
 ],
 "metadata": {
  "kernelspec": {
   "display_name": "Python 3 (ipykernel)",
   "language": "python",
   "name": "python3"
  },
  "language_info": {
   "codemirror_mode": {
    "name": "ipython",
    "version": 3
   },
   "file_extension": ".py",
   "mimetype": "text/x-python",
   "name": "python",
   "nbconvert_exporter": "python",
   "pygments_lexer": "ipython3",
   "version": "3.9.12"
  }
 },
 "nbformat": 4,
 "nbformat_minor": 5
}
