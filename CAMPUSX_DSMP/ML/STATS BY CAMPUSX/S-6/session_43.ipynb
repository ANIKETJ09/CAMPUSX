{
 "cells": [
  {
   "cell_type": "code",
   "execution_count": 1,
   "metadata": {},
   "outputs": [],
   "source": [
    "# https://www.ztable.net"
   ]
  },
  {
   "cell_type": "code",
   "execution_count": 2,
   "metadata": {
    "id": "B4Qg4JoFfH7X"
   },
   "outputs": [],
   "source": [
    "import numpy as np\n",
    "import matplotlib.pyplot as plt"
   ]
  },
  {
   "cell_type": "code",
   "execution_count": 4,
   "metadata": {
    "colab": {
     "base_uri": "https://localhost:8080/",
     "height": 265
    },
    "id": "aYU6WgqPfhFp",
    "outputId": "c6051e24-c97f-44e4-d13a-63a0eee8d504",
    "scrolled": true
   },
   "outputs": [
    {
     "data": {
      "text/plain": [
       "array([ 3,  5,  7,  5,  5,  5,  8,  5,  3,  5,  3,  4,  7,  3,  6,  4,  4,\n",
       "        4,  7,  2,  5,  3,  7,  7,  5,  4,  5,  6,  5,  4,  6,  4,  3,  5,\n",
       "        8,  8,  6,  6,  2,  5,  7,  5,  4,  2,  5,  5,  5,  6,  6,  4,  6,\n",
       "        5,  7,  5,  6,  3,  4,  7,  9,  5,  5,  6,  6,  5,  5,  5,  6,  5,\n",
       "        2,  7,  4,  6,  5,  6,  7,  5,  7,  7,  4,  5,  3,  6,  4,  4,  3,\n",
       "        5,  9,  5,  5,  5,  4,  3,  5,  4,  6,  5,  3,  6,  6,  4,  5,  7,\n",
       "        4,  7,  6,  9,  7,  7,  5,  8,  5,  4,  6,  7,  5,  4,  4,  9,  5,\n",
       "        3,  7,  4,  7,  5,  3,  7,  3,  5,  7,  1,  4,  5,  8,  6,  5,  4,\n",
       "        5,  6,  8,  5,  7,  4,  6,  3,  4,  5,  5,  5,  4,  4,  6,  4,  4,\n",
       "        3,  5,  3,  5,  7,  6,  5,  3,  6,  5,  6,  8,  6,  7,  4,  6,  3,\n",
       "        5,  7,  5,  5,  6,  5,  6,  5,  5,  3,  7,  5,  3,  4,  5,  4,  5,\n",
       "        4,  6,  3,  6,  4,  2,  7,  4,  5,  4,  4,  7,  3,  4,  4,  2,  7,\n",
       "        5,  4,  3,  4,  7,  5,  6,  5,  5,  4,  7,  6,  3,  8,  6,  4,  6,\n",
       "        7,  5,  4,  4,  3,  3,  3,  3,  3,  5,  5,  5,  4,  6,  6,  4,  4,\n",
       "        4,  3,  5,  6,  5,  5,  4,  8,  5,  7,  3,  4,  5,  7,  6,  5,  6,\n",
       "        6,  7,  3,  6,  2,  6,  4,  5,  7,  5,  5,  6,  6,  7,  4,  3,  3,\n",
       "        3,  4,  4,  5,  5,  7,  4,  8,  2,  1,  4,  7,  4,  5,  3,  7,  5,\n",
       "        5,  7,  6,  5,  5,  4,  5,  3,  4,  6,  3,  4,  5,  7,  5,  2,  5,\n",
       "        5,  5,  4,  4,  5,  6,  7,  6,  7,  4,  7,  6,  8,  4,  4,  7,  7,\n",
       "        6,  6,  3,  6,  3,  7,  5,  5,  4,  6,  7,  4,  4,  6,  3,  5,  5,\n",
       "       10,  3,  3,  6,  4,  6,  9,  4,  5,  3,  5,  4,  3,  7,  4,  3,  4,\n",
       "        5,  5,  5,  5,  2,  5,  5,  4,  5,  5,  4,  2,  3,  3,  5,  4,  5,\n",
       "        5,  4,  6,  5,  5,  4,  5,  7,  4,  7,  7,  6,  5,  4,  4,  6,  6,\n",
       "        5,  6,  3,  6,  5,  5,  5,  3,  7,  3,  2,  3,  3,  6,  5,  5,  3,\n",
       "        5,  5,  6,  2,  5,  3,  8,  5,  5,  4,  9,  8,  8,  7,  8,  3,  7,\n",
       "        7,  4,  3,  3,  4,  6,  6,  9,  4,  5,  2,  7,  5,  5,  5,  6,  3,\n",
       "        6,  4,  7,  5,  5,  4,  6,  9,  6,  7,  6,  7,  7,  5,  6,  5,  3,\n",
       "        3,  5,  3,  7,  4,  7,  5,  7,  5,  7,  4,  6,  4,  4,  6,  6,  6,\n",
       "        7,  8,  6,  5,  2,  4,  5,  5,  7,  6,  6,  3,  7,  6,  7,  3,  5,\n",
       "        5,  7,  5,  6,  8,  7,  4,  5,  4,  6,  5,  3,  3,  6,  7,  6,  5,\n",
       "        4,  3,  2,  5,  3,  3,  5,  4,  7,  5,  6,  4,  4,  6,  2,  6,  3,\n",
       "        5,  7,  5,  7,  7,  7,  1,  5,  3,  7,  5,  5,  5,  6,  5,  2,  6,\n",
       "        5,  6,  3,  5,  3,  4,  3,  4,  4,  5,  4,  5,  7,  6,  5,  6,  4,\n",
       "        8,  5,  6,  5,  7,  3,  5,  5,  7,  3,  5,  5,  5,  7,  5,  6,  5,\n",
       "        7,  3,  7,  3,  7,  9,  5,  5,  4,  7,  3,  4,  6,  2,  7,  6,  7,\n",
       "        3,  8,  7,  5,  6,  7,  5,  4,  5,  6,  7,  4,  7,  5,  6,  3,  2,\n",
       "        8,  4,  5,  4,  6,  8,  5,  5,  5,  4,  6,  4,  2,  5,  6,  3,  3,\n",
       "        2,  3,  5,  6,  6,  6,  5,  6,  7,  5,  6,  7,  4,  6,  4,  4,  4,\n",
       "        5,  3,  1,  6,  3,  6,  3,  2,  5,  4,  4,  5,  6,  4,  3,  8,  4,\n",
       "        7,  5,  6,  5,  5,  3,  1,  6,  6,  3,  4,  6,  6,  4,  7,  2,  4,\n",
       "        5,  5,  3,  6,  6,  5,  6,  3,  2,  4,  3,  4,  6,  6,  7,  3,  8,\n",
       "        6,  4,  6,  6,  1,  4,  3,  6,  3,  3,  3,  2,  3,  4,  6,  4,  4,\n",
       "        3,  6,  4,  9,  3,  4,  7,  6,  4,  7,  3,  5,  6,  7,  4,  8,  5,\n",
       "        9,  5,  5,  6,  5,  3,  4,  4,  6,  3,  2,  4,  5,  4,  5,  2,  4,\n",
       "        7,  6,  6,  5,  4,  3,  3,  7,  5,  6,  3,  6,  4,  7,  5,  5,  6,\n",
       "        4,  3,  6,  3,  8,  4,  3,  5,  5,  5,  2,  5,  8,  6,  6,  2,  5,\n",
       "        2,  8,  5,  3,  5,  6,  3,  4,  7,  5,  4,  5,  4,  6,  3,  6,  5,\n",
       "        6,  4,  6,  4,  6,  5,  5,  3,  6,  6,  3,  1,  3,  6,  5,  4,  6,\n",
       "        4,  6,  7,  5,  7,  6,  7,  6,  4,  3,  5,  7,  4,  3,  7,  5,  5,\n",
       "        4,  3,  3,  2,  4,  2,  5,  5,  5,  5,  4,  5,  5,  4,  3,  5,  5,\n",
       "        4,  5,  4,  3,  5,  3,  3,  5,  6,  3,  4,  4,  4,  4,  6,  4,  2,\n",
       "        3,  4,  5,  5,  4,  6,  7,  4,  3,  4,  4,  6,  3,  5,  7,  6,  5,\n",
       "        4,  8,  5,  6,  6,  6,  4,  4,  5,  4,  4,  4,  8,  6,  3,  3,  5,\n",
       "        6,  2,  4,  5,  6,  7,  3,  8,  5,  7,  2,  5,  6,  4,  4,  6,  5,\n",
       "        9,  6,  3,  4,  6,  2,  4,  8,  6,  5,  5,  5,  6,  6,  3,  3,  4,\n",
       "        7,  7,  7,  5,  6,  4,  9,  6,  4,  5,  5,  5,  4,  4,  4,  5,  5,\n",
       "        3,  3,  5,  7,  3,  5,  8,  6,  7,  5,  5,  5,  4,  4,  7,  4,  7,\n",
       "        5,  8,  2,  4,  4,  4,  4,  5,  1,  6,  5,  4,  8,  4,  5,  7,  2,\n",
       "        3,  4,  6,  3,  6,  3,  4,  7,  5,  4,  1,  5,  3,  4])"
      ]
     },
     "execution_count": 4,
     "metadata": {},
     "output_type": "execute_result"
    }
   ],
   "source": [
    "n = 10  # number of trials\n",
    "p = 0.5  # probability of success\n",
    "size = 1000  # number of samples to generate\n",
    "\n",
    "binomial_dist = np.random.binomial(n, p, size)\n",
    "binomial_dist"
   ]
  },
  {
   "cell_type": "code",
   "execution_count": 5,
   "metadata": {},
   "outputs": [
    {
     "data": {
      "image/png": "[encoded data removed]",
      "text/plain": [
       "<Figure size 432x288 with 1 Axes>"
      ]
     },
     "metadata": {
      "needs_background": "light"
     },
     "output_type": "display_data"
    }
   ],
   "source": [
    "plt.hist(binomial_dist,density=True)\n",
    "plt.show()"
   ]
  },
  {
   "cell_type": "code",
   "execution_count": 10,
   "metadata": {
    "scrolled": true
   },
   "outputs": [
    {
     "data": {
      "text/plain": [
       "array([ 9,  8,  5,  9,  5,  6,  9, 10,  7,  9,  7,  6,  7,  7,  8,  7,  7,\n",
       "        9,  8, 10,  9, 10,  8,  8,  5,  8,  7,  8,  9,  5,  6,  8,  8,  6,\n",
       "        8,  9,  7, 10,  9,  7,  7,  7,  7,  9,  8,  9,  9,  6,  9,  9,  7,\n",
       "        8,  7,  9,  9,  7, 10,  8, 10,  9,  8,  9,  9,  9,  8,  7,  7,  8,\n",
       "       10,  9,  7,  8,  6,  7,  9,  9,  9,  8,  9,  9,  8,  7,  7,  7,  8,\n",
       "        6,  8,  9,  8,  8,  9,  7,  8,  8, 10, 10,  9,  9,  8,  8,  8,  8,\n",
       "        8,  9,  9,  8,  9,  6,  7,  6,  9,  7,  7,  7,  5,  7,  7, 10,  9,\n",
       "        7,  8,  8, 10,  9,  5,  8,  8,  7,  8,  8,  9,  8,  9,  8,  8,  6,\n",
       "        8,  8, 10,  8,  8,  8,  9,  9,  8,  7,  8,  9, 10,  8, 10,  8,  8,\n",
       "        7,  9,  8,  9,  8,  9,  7,  6,  8,  8,  6, 10,  8,  7,  7, 10,  9,\n",
       "       10, 10,  7,  8,  8,  7,  9,  5, 10,  8,  9,  9,  7,  8,  8,  8,  9,\n",
       "        9,  8, 10, 10,  9,  8,  6,  7,  9, 10,  8,  9,  8,  7,  8, 10,  8,\n",
       "        7,  8,  9, 10,  8,  9,  9,  8,  6,  8,  9,  5,  7,  6,  9,  8,  9,\n",
       "        7,  9,  9,  9,  9,  6,  6,  9,  9,  8,  7,  2,  6,  8,  6,  8,  6,\n",
       "        7,  8, 10,  7,  6, 10,  8,  8,  7,  6,  9, 10,  9,  7,  9,  8,  6,\n",
       "        9, 10,  8, 10,  9,  9,  7,  8,  9,  6,  6,  7,  8,  9,  9,  7,  7,\n",
       "        8,  8,  8, 10,  8,  9,  9,  8,  8,  7,  5,  9,  8,  8,  8, 10,  6,\n",
       "        5,  6,  6,  8, 10,  8,  7,  7,  8,  6, 10,  6,  8,  9,  8, 10,  7,\n",
       "        7, 10,  7,  7,  9,  6,  9,  7,  8,  8,  6,  7,  8,  9, 10,  9,  9,\n",
       "        8,  7,  6,  9,  8,  7, 10,  8, 10,  8,  6,  7,  9,  9,  9,  6,  6,\n",
       "        7,  7,  8,  9,  7, 10,  9,  9,  6,  8,  7,  9,  7,  8,  8,  7,  8,\n",
       "        7, 10,  9,  6,  8,  7,  7, 10,  6,  8,  7,  7,  9,  9,  9,  8,  6,\n",
       "        9,  7,  6,  9,  8,  8,  7,  8,  9,  9,  6,  8,  9,  8,  7,  7,  7,\n",
       "        8,  7,  9,  8,  9,  7,  7,  7,  8,  9,  7,  6, 10,  9,  9,  6, 10,\n",
       "        8, 10,  7,  7,  9,  9,  7,  8,  7, 10,  8,  9,  8,  9,  8,  8, 10,\n",
       "       10,  7,  8,  9,  9,  9,  9,  8,  8,  5,  7,  7,  8,  8, 10,  9,  9,\n",
       "        9,  8,  9,  9, 10,  7,  4,  7,  8,  7,  9,  8,  7,  8,  9,  6,  7,\n",
       "        7,  6,  8,  7,  8,  8,  8,  8,  9,  8, 10, 10, 10,  7,  9,  8, 10,\n",
       "        6,  8,  7, 10,  7,  8,  7,  9, 10,  8,  9,  8, 10,  9,  8,  8,  8,\n",
       "        8,  7,  8,  7,  7,  9,  8,  9, 10,  6,  8,  9,  9,  7,  9,  9,  8,\n",
       "       10,  9, 10,  8, 10,  9,  8,  8,  9, 10,  8, 10,  8,  7,  8,  8,  6,\n",
       "        8,  9,  8,  6,  8,  8,  8,  9,  7,  9,  9,  8,  6,  7,  7,  5,  8,\n",
       "        8,  9,  8,  9,  8, 10,  7,  8,  8,  7,  8,  9,  9,  8,  9,  8,  6,\n",
       "       10, 10,  7,  7,  7,  9,  5, 10,  7,  8,  9,  8,  8,  8,  7,  9,  9,\n",
       "        9,  9,  7,  9,  9,  7,  6,  6, 10,  9,  7,  8,  8,  9,  6,  7,  7,\n",
       "        8,  8,  8,  9,  7,  7,  6,  7,  9,  8,  7,  8,  8,  9,  8,  9,  9,\n",
       "        8,  6,  7,  8,  8,  7,  7,  7, 10,  9,  6,  7,  9,  8,  9,  8,  8,\n",
       "        8,  9,  8,  8,  6,  9,  8,  7,  7,  7,  8,  7, 10, 10,  7,  8,  9,\n",
       "        8,  8,  9,  7,  9,  8,  7,  5,  6, 10,  8, 10,  7,  9, 10,  8, 10,\n",
       "        9,  9, 10,  6,  7,  5,  8,  8, 10, 10,  6,  8, 10,  9,  5,  6,  8,\n",
       "        9,  8,  8,  8,  9,  8,  8,  7,  9, 10,  7,  6,  9,  7,  9,  8,  9,\n",
       "        9,  7,  8,  9,  8,  7, 10,  7,  7, 10,  7,  9,  9,  9,  8,  9,  9,\n",
       "        8,  9,  7,  7,  6,  8, 10,  9,  8,  7,  9,  8,  9,  8,  4,  9,  9,\n",
       "       10,  9,  9,  7, 10,  9,  8,  7,  9,  7,  9,  8, 10,  9,  8,  9,  7,\n",
       "        6,  8,  8,  8, 10,  6,  8,  8,  8,  7,  9, 10,  8,  5,  6,  7, 10,\n",
       "        7,  8,  9,  8,  9,  9,  7,  8,  8,  8, 10,  7,  7,  9,  8,  6,  7,\n",
       "        9,  8, 10,  9,  7,  8,  8,  7,  9,  7,  8,  8,  8, 10,  6,  7,  6,\n",
       "        9,  8,  9,  8,  7,  7,  7,  8,  8,  7,  6,  8,  8,  9,  7,  6, 10,\n",
       "        8,  7,  9,  7,  6,  8,  8,  8,  8,  9,  9,  7,  9,  8,  8,  5,  7,\n",
       "       10, 10,  9,  8,  9,  9,  8,  7, 10,  9,  9,  6,  8, 10, 10,  8,  9,\n",
       "       10,  8,  9,  9,  6,  8,  7,  9,  7, 10,  9,  8,  9,  6,  9,  7,  9,\n",
       "        8,  8,  7,  9, 10,  7,  6, 10,  9, 10,  9,  6,  8,  7,  7,  9,  8,\n",
       "        7, 10,  7,  8,  8,  8, 10,  7,  7,  8,  7,  9, 10,  9,  7,  8,  6,\n",
       "        7,  8,  9,  9, 10,  7,  8,  7,  9, 10,  8, 10,  7,  9,  8,  9,  9,\n",
       "        8,  9,  9,  8,  5,  7,  8,  8,  8, 10,  7, 10,  7,  8,  4, 10,  8,\n",
       "        8,  7,  8,  7,  8,  7,  6,  9,  9,  9,  7,  9, 10,  8, 10,  7, 10,\n",
       "        9,  7,  7,  9,  9,  8,  8, 10,  9,  6,  8,  7,  9,  9,  9,  8,  9,\n",
       "       10,  9,  7,  7,  9, 10,  8,  8,  8,  7,  5,  9,  9,  7,  8, 10,  8,\n",
       "        8,  9, 10,  7,  6, 10,  8,  7,  7,  9,  8,  7,  5,  8])"
      ]
     },
     "execution_count": 10,
     "metadata": {},
     "output_type": "execute_result"
    }
   ],
   "source": [
    "n = 10  # number of trials\n",
    "p = 0.8  # probability of success\n",
    "size = 1000  # number of samples to generate\n",
    "\n",
    "binomial_dist = np.random.binomial(n, p, size)\n",
    "binomial_dist"
   ]
  },
  {
   "cell_type": "code",
   "execution_count": 11,
   "metadata": {},
   "outputs": [
    {
     "data": {
      "image/png": "[encoded data removed]",
      "text/plain": [
       "<Figure size 432x288 with 1 Axes>"
      ]
     },
     "metadata": {
      "needs_background": "light"
     },
     "output_type": "display_data"
    }
   ],
   "source": [
    "plt.hist(binomial_dist,density=True)\n",
    "plt.show()"
   ]
  },
  {
   "cell_type": "code",
   "execution_count": 12,
   "metadata": {},
   "outputs": [
    {
     "data": {
      "text/plain": [
       "array([1, 2, 0, 2, 2, 0, 1, 1, 0, 1, 3, 3, 1, 1, 1, 0, 4, 1, 1, 2, 2, 1,\n",
       "       0, 3, 0, 3, 0, 2, 0, 0, 1, 2, 0, 1, 2, 2, 1, 2, 0, 1, 4, 1, 1, 0,\n",
       "       0, 3, 0, 1, 1, 0, 0, 1, 1, 0, 2, 0, 0, 1, 0, 0, 3, 0, 2, 0, 2, 0,\n",
       "       1, 1, 2, 1, 1, 2, 3, 0, 0, 0, 1, 3, 2, 0, 0, 2, 3, 0, 0, 2, 1, 0,\n",
       "       1, 1, 1, 1, 0, 0, 1, 1, 4, 2, 0, 1, 0, 1, 0, 1, 1, 1, 1, 0, 1, 0,\n",
       "       3, 0, 4, 1, 0, 1, 2, 0, 1, 1, 0, 1, 0, 2, 1, 0, 3, 1, 1, 2, 2, 1,\n",
       "       1, 2, 1, 0, 0, 1, 1, 2, 0, 4, 1, 2, 1, 2, 4, 2, 1, 1, 1, 1, 2, 1,\n",
       "       1, 4, 1, 2, 1, 0, 0, 0, 2, 1, 0, 1, 0, 0, 0, 0, 0, 1, 1, 0, 2, 0,\n",
       "       1, 0, 2, 2, 0, 1, 0, 0, 1, 1, 0, 0, 2, 0, 2, 2, 2, 0, 0, 0, 0, 1,\n",
       "       0, 1, 2, 0, 0, 1, 1, 2, 1, 2, 1, 1, 0, 1, 0, 0, 0, 2, 2, 2, 1, 1,\n",
       "       2, 2, 2, 2, 1, 0, 0, 2, 0, 3, 0, 2, 1, 1, 1, 2, 1, 3, 1, 0, 0, 0,\n",
       "       2, 1, 4, 0, 1, 1, 0, 2, 1, 0, 2, 2, 0, 0, 1, 1, 0, 2, 1, 1, 1, 1,\n",
       "       0, 0, 0, 1, 0, 0, 2, 2, 2, 1, 0, 1, 1, 2, 3, 1, 0, 0, 0, 1, 2, 1,\n",
       "       1, 2, 0, 4, 1, 1, 0, 0, 2, 3, 0, 1, 1, 2, 2, 0, 1, 1, 0, 2, 0, 1,\n",
       "       0, 0, 1, 1, 0, 0, 3, 0, 1, 0, 1, 2, 1, 1, 1, 2, 0, 5, 2, 0, 1, 0,\n",
       "       0, 1, 0, 1, 0, 0, 2, 0, 1, 0, 0, 1, 2, 1, 2, 1, 1, 2, 1, 3, 1, 1,\n",
       "       1, 0, 1, 5, 1, 2, 1, 1, 2, 2, 1, 0, 2, 0, 2, 1, 0, 1, 2, 0, 0, 0,\n",
       "       3, 0, 0, 5, 1, 1, 0, 1, 0, 2, 0, 1, 2, 2, 1, 0, 0, 2, 1, 1, 0, 1,\n",
       "       1, 1, 0, 0, 1, 1, 0, 2, 3, 1, 0, 1, 0, 3, 1, 1, 1, 2, 0, 1, 1, 1,\n",
       "       0, 0, 0, 0, 1, 3, 2, 1, 0, 3, 1, 1, 0, 1, 1, 1, 0, 3, 1, 0, 0, 2,\n",
       "       1, 0, 1, 0, 1, 2, 0, 1, 0, 1, 1, 1, 0, 2, 0, 0, 1, 1, 1, 0, 1, 1,\n",
       "       1, 1, 2, 0, 0, 1, 1, 0, 3, 2, 3, 1, 2, 0, 0, 1, 1, 0, 3, 0, 0, 2,\n",
       "       0, 3, 2, 1, 0, 1, 1, 0, 0, 0, 1, 0, 0, 2, 1, 2, 1, 1, 0, 3, 0, 3,\n",
       "       1, 1, 2, 0, 0, 1, 1, 3, 1, 2, 1, 0, 1, 2, 1, 0, 0, 0, 1, 1, 1, 0,\n",
       "       2, 1, 0, 0, 2, 1, 1, 2, 1, 1, 2, 0, 0, 1, 1, 0, 3, 2, 1, 0, 0, 0,\n",
       "       0, 2, 1, 1, 2, 0, 0, 0, 0, 0, 1, 1, 0, 0, 0, 2, 0, 0, 0, 1, 2, 0,\n",
       "       3, 1, 0, 3, 1, 1, 2, 0, 1, 1, 0, 0, 0, 2, 3, 1, 1, 0, 1, 2, 1, 1,\n",
       "       0, 0, 0, 0, 0, 1, 1, 0, 1, 0, 0, 2, 0, 1, 1, 1, 0, 1, 2, 1, 2, 2,\n",
       "       2, 1, 0, 1, 0, 1, 1, 1, 3, 0, 0, 2, 0, 0, 2, 2, 0, 1, 2, 2, 1, 1,\n",
       "       2, 2, 2, 1, 1, 0, 1, 0, 1, 0, 1, 2, 1, 0, 1, 1, 1, 1, 1, 0, 1, 3,\n",
       "       0, 1, 0, 1, 2, 1, 0, 3, 1, 2, 0, 2, 1, 1, 0, 1, 0, 0, 2, 1, 1, 0,\n",
       "       0, 0, 0, 0, 1, 0, 1, 0, 1, 2, 1, 1, 3, 2, 0, 1, 2, 0, 1, 2, 1, 4,\n",
       "       1, 1, 0, 3, 0, 0, 2, 1, 0, 1, 2, 0, 3, 0, 2, 2, 1, 1, 2, 1, 0, 1,\n",
       "       1, 1, 2, 0, 2, 0, 0, 0, 2, 2, 1, 0, 0, 1, 0, 1, 0, 0, 2, 0, 0, 0,\n",
       "       1, 1, 0, 3, 2, 1, 0, 2, 0, 0, 0, 1, 2, 0, 0, 1, 1, 1, 0, 0, 0, 0,\n",
       "       2, 0, 0, 1, 4, 0, 0, 0, 1, 2, 1, 1, 2, 0, 0, 1, 1, 1, 0, 1, 1, 3,\n",
       "       2, 1, 1, 0, 2, 0, 2, 2, 0, 2, 1, 0, 1, 1, 0, 1, 0, 2, 1, 0, 3, 1,\n",
       "       0, 2, 1, 2, 0, 1, 4, 2, 1, 0, 2, 1, 2, 1, 2, 2, 1, 2, 1, 0, 0, 1,\n",
       "       2, 3, 4, 1, 2, 0, 0, 0, 1, 0, 0, 1, 2, 1, 1, 1, 1, 0, 2, 0, 0, 2,\n",
       "       0, 0, 0, 1, 2, 3, 1, 0, 0, 3, 0, 2, 0, 0, 3, 3, 1, 2, 2, 0, 1, 0,\n",
       "       1, 1, 2, 0, 2, 0, 0, 1, 0, 0, 1, 1, 2, 1, 2, 0, 1, 1, 0, 4, 2, 3,\n",
       "       3, 1, 3, 1, 0, 0, 0, 0, 0, 1, 2, 1, 1, 0, 0, 0, 3, 1, 0, 0, 1, 0,\n",
       "       1, 0, 1, 2, 0, 0, 1, 0, 1, 1, 0, 1, 1, 0, 1, 2, 2, 2, 0, 0, 0, 5,\n",
       "       0, 0, 0, 1, 2, 2, 0, 0, 2, 1, 0, 1, 2, 0, 2, 0, 1, 1, 1, 0, 0, 0,\n",
       "       1, 1, 2, 2, 2, 2, 0, 0, 0, 0, 1, 1, 1, 0, 1, 0, 1, 2, 1, 1, 1, 1,\n",
       "       2, 0, 1, 2, 4, 1, 1, 1, 0, 1])"
      ]
     },
     "execution_count": 12,
     "metadata": {},
     "output_type": "execute_result"
    }
   ],
   "source": [
    "n = 10  # number of trials\n",
    "p = 0.1  # probability of success\n",
    "size = 1000  # number of samples to generate\n",
    "\n",
    "binomial_dist = np.random.binomial(n, p, size)\n",
    "binomial_dist"
   ]
  },
  {
   "cell_type": "code",
   "execution_count": 13,
   "metadata": {},
   "outputs": [
    {
     "data": {
      "image/png": "[encoded data removed]",
      "text/plain": [
       "<Figure size 432x288 with 1 Axes>"
      ]
     },
     "metadata": {
      "needs_background": "light"
     },
     "output_type": "display_data"
    }
   ],
   "source": [
    "plt.hist(binomial_dist,density=True)\n",
    "plt.show()"
   ]
  },
  {
   "cell_type": "code",
   "execution_count": 14,
   "metadata": {
    "colab": {
     "base_uri": "https://localhost:8080/",
     "height": 295
    },
    "id": "WlQgIHA9iJPT",
    "outputId": "c313b30a-4621-4d75-e1a9-8b7d53b79f7b"
   },
   "outputs": [
    {
     "data": {
      "text/plain": [
       "array([[0.63830527, 0.69297021, 0.21983701, ..., 0.90401148, 0.26762635,\n",
       "        0.16100102],\n",
       "       [0.05939966, 0.5842118 , 0.51810105, ..., 0.8225424 , 0.5298636 ,\n",
       "        0.6224856 ],\n",
       "       [0.18676793, 0.98980225, 0.69490028, ..., 0.05584245, 0.20805103,\n",
       "        0.45184664],\n",
       "       ...,\n",
       "       [0.29306753, 0.03404625, 0.13908682, ..., 0.70950341, 0.19363821,\n",
       "        0.99160019],\n",
       "       [0.50411832, 0.71158293, 0.34336654, ..., 0.42679472, 0.52890748,\n",
       "        0.4256411 ],\n",
       "       [0.29033989, 0.89645504, 0.7810952 , ..., 0.33334511, 0.14703151,\n",
       "        0.0437746 ]])"
      ]
     },
     "execution_count": 14,
     "metadata": {},
     "output_type": "execute_result"
    }
   ],
   "source": [
    "import numpy as np\n",
    "import matplotlib.pyplot as plt\n",
    "\n",
    "# Set the parameters\n",
    "num_samples = 10000\n",
    "sample_size = 300\n",
    "distribution_range = (0, 1)\n",
    "\n",
    "# Generate samples from a uniform distribution\n",
    "samples = np.random.uniform(distribution_range[0], distribution_range[1], (num_samples, sample_size))\n",
    "samples"
   ]
  },
  {
   "cell_type": "code",
   "execution_count": 16,
   "metadata": {},
   "outputs": [
    {
     "data": {
      "text/plain": [
       "array([0.48963375, 0.48782651, 0.51873899, ..., 0.50903784, 0.47372277,\n",
       "       0.50389039])"
      ]
     },
     "execution_count": 16,
     "metadata": {},
     "output_type": "execute_result"
    }
   ],
   "source": [
    "# Calculate the sample means\n",
    "sample_means = np.mean(samples, axis=1)\n",
    "sample_means"
   ]
  },
  {
   "cell_type": "code",
   "execution_count": 17,
   "metadata": {},
   "outputs": [
    {
     "data": {
      "image/png": "[encoded data removed]",
      "text/plain": [
       "<Figure size 432x288 with 1 Axes>"
      ]
     },
     "metadata": {
      "needs_background": "light"
     },
     "output_type": "display_data"
    }
   ],
   "source": [
    "# Plot the histogram of the sample means\n",
    "plt.hist(sample_means, bins=30, density=True, edgecolor='black')\n",
    "plt.title('Histogram of Sample Means')\n",
    "plt.xlabel('Sample Mean')\n",
    "plt.ylabel('Density')\n",
    "plt.show()"
   ]
  },
  {
   "cell_type": "code",
   "execution_count": null,
   "metadata": {
    "colab": {
     "base_uri": "https://localhost:8080/",
     "height": 295
    },
    "id": "jBdPqh9goUtg",
    "outputId": "87f5bdbb-37f7-4909-b9f5-6ae6f6f6575e"
   },
   "outputs": [
    {
     "data": {
      "image/png": "[encoded data removed]",
      "text/plain": [
       "<Figure size 432x288 with 1 Axes>"
      ]
     },
     "metadata": {
      "needs_background": "light"
     },
     "output_type": "display_data"
    }
   ],
   "source": [
    "import numpy as np\n",
    "import matplotlib.pyplot as plt\n",
    "\n",
    "# Set the parameters\n",
    "num_samples = 1000\n",
    "sample_size = 50\n",
    "lambda_param = 2\n",
    "\n",
    "# Generate samples from an exponential distribution\n",
    "samples = np.random.exponential(scale=1/lambda_param, size=(num_samples, sample_size))\n",
    "\n",
    "# Calculate the sample means\n",
    "sample_means = np.mean(samples, axis=1)\n",
    "\n",
    "# Plot the histogram of the sample means\n",
    "plt.hist(sample_means, bins=30, density=True, edgecolor='black')\n",
    "plt.title('Histogram of Sample Means (Exponential Distribution)')\n",
    "plt.xlabel('Sample Mean')\n",
    "plt.ylabel('Density')\n",
    "plt.show()\n"
   ]
  },
  {
   "cell_type": "code",
   "execution_count": null,
   "metadata": {
    "colab": {
     "base_uri": "https://localhost:8080/",
     "height": 873
    },
    "id": "kQNpAKeEooeM",
    "outputId": "72b46397-adb8-4176-bea0-ceca45c4dea2"
   },
   "outputs": [
    {
     "data": {
      "image/png": "[encoded data removed]",
      "text/plain": [
       "<Figure size 576x864 with 3 Axes>"
      ]
     },
     "metadata": {
      "needs_background": "light"
     },
     "output_type": "display_data"
    }
   ],
   "source": [
    "import numpy as np\n",
    "import matplotlib.pyplot as plt\n",
    "\n",
    "# Set the parameters\n",
    "num_samples = 1000\n",
    "sample_size = 50\n",
    "\n",
    "# Poisson distribution parameters\n",
    "poisson_lambda = 5\n",
    "\n",
    "# Gamma distribution parameters\n",
    "gamma_shape = 2\n",
    "gamma_scale = 1\n",
    "\n",
    "# Binomial distribution parameters\n",
    "binomial_n = 10\n",
    "binomial_p = 0.5\n",
    "\n",
    "# Generate samples from the distributions\n",
    "poisson_samples = np.random.poisson(lam=poisson_lambda, size=(num_samples, sample_size))\n",
    "gamma_samples = np.random.gamma(shape=gamma_shape, scale=gamma_scale, size=(num_samples, sample_size))\n",
    "binomial_samples = np.random.binomial(n=binomial_n, p=binomial_p, size=(num_samples, sample_size))\n",
    "\n",
    "# Calculate the sample means\n",
    "poisson_means = np.mean(poisson_samples, axis=1)\n",
    "gamma_means = np.mean(gamma_samples, axis=1)\n",
    "binomial_means = np.mean(binomial_samples, axis=1)\n",
    "\n",
    "# Plot the histograms of the sample means\n",
    "fig, axs = plt.subplots(3, 1, figsize=(8, 12))\n",
    "\n",
    "# Poisson distribution\n",
    "axs[0].hist(poisson_means, bins=30, density=True, edgecolor='black')\n",
    "axs[0].set_title('Histogram of Sample Means (Poisson Distribution)')\n",
    "axs[0].set_xlabel('Sample Mean')\n",
    "axs[0].set_ylabel('Density')\n",
    "\n",
    "# Gamma distribution\n",
    "axs[1].hist(gamma_means, bins=30, density=True, edgecolor='black')\n",
    "axs[1].set_title('Histogram of Sample Means (Gamma Distribution)')\n",
    "axs[1].set_xlabel('Sample Mean')\n",
    "axs[1].set_ylabel('Density')\n",
    "\n",
    "# Binomial distribution\n",
    "axs[2].hist(binomial_means, bins=30, density=True, edgecolor='black')\n",
    "axs[2].set_title('Histogram of Sample Means (Binomial Distribution)')\n",
    "axs[2].set_xlabel('Sample Mean')\n",
    "axs[2].set_ylabel('Density')\n",
    "\n",
    "# Adjust the layout and show the plot\n",
    "fig.tight_layout()\n",
    "plt.show()\n",
    "\n"
   ]
  },
  {
   "cell_type": "code",
   "execution_count": null,
   "metadata": {
    "id": "AT6yMOCt7p5F"
   },
   "outputs": [],
   "source": [
    "# CLT Demo Gamma Distribution"
   ]
  },
  {
   "cell_type": "code",
   "execution_count": null,
   "metadata": {
    "colab": {
     "base_uri": "https://localhost:8080/"
    },
    "id": "Wczh1MGWrKu-",
    "outputId": "bb0c4e29-80f8-4846-ae7a-cbd46afb1b82"
   },
   "outputs": [
    {
     "name": "stdout",
     "output_type": "stream",
     "text": [
      "Theoretical mean: 2.0000\n",
      "Empirical mean: 2.0009\n",
      "\n",
      "\n",
      "Theoretical variance: 2.0000\n",
      "Empirical variance: 0.0395\n"
     ]
    }
   ],
   "source": [
    "import numpy as np\n",
    "\n",
    "# Set the parameters\n",
    "num_samples = 10000\n",
    "sample_size = 50\n",
    "\n",
    "# Gamma distribution parameters\n",
    "gamma_shape = 2\n",
    "gamma_scale = 1\n",
    "\n",
    "# Calculate the theoretical mean and variance\n",
    "theoretical_mean = gamma_shape * gamma_scale\n",
    "theoretical_variance = (gamma_shape * gamma_scale ** 2)\n",
    "\n",
    "# Generate samples from the Gamma distribution\n",
    "samples = np.random.gamma(shape=gamma_shape, scale=gamma_scale, size=(num_samples, sample_size))\n",
    "\n",
    "# Calculate the sample means\n",
    "sample_means = np.mean(samples, axis=1)\n",
    "\n",
    "# Calculate the empirical mean and variance of the sample means\n",
    "empirical_mean = np.mean(sample_means)\n",
    "empirical_variance = np.var(sample_means)\n",
    "\n",
    "# Compare the theoretical and empirical values\n",
    "print(f\"Theoretical mean: {theoretical_mean:.4f}\")\n",
    "print(f\"Empirical mean: {empirical_mean:.4f}\")\n",
    "print(f\"\\n\")\n",
    "print(f\"Theoretical variance: {theoretical_variance:.4f}\")\n",
    "print(f\"Empirical variance: {empirical_variance:.4f}\")\n"
   ]
  },
  {
   "cell_type": "code",
   "execution_count": null,
   "metadata": {
    "colab": {
     "base_uri": "https://localhost:8080/"
    },
    "id": "mng5NEYU4M5M",
    "outputId": "33703bb3-7ed9-47c1-930f-f9120e690282"
   },
   "outputs": [
    {
     "data": {
      "text/plain": [
       "0.04"
      ]
     },
     "execution_count": 44,
     "metadata": {},
     "output_type": "execute_result"
    }
   ],
   "source": [
    "2.0000/50"
   ]
  },
  {
   "cell_type": "code",
   "execution_count": null,
   "metadata": {
    "id": "1dMCwb8Os6jT"
   },
   "outputs": [],
   "source": [
    "# CLT Demo Log Normal Distribution"
   ]
  },
  {
   "cell_type": "code",
   "execution_count": null,
   "metadata": {
    "colab": {
     "base_uri": "https://localhost:8080/"
    },
    "id": "ytt83w9ZtOtj",
    "outputId": "5f41fad2-812e-45c4-b376-d7e4b1f7bde1"
   },
   "outputs": [
    {
     "name": "stdout",
     "output_type": "stream",
     "text": [
      "Theoretical mean: 2.1064\n",
      "Empirical mean: 2.1028\n",
      "\n",
      "\n",
      "Theoretical variance: 2.8056\n",
      "Empirical variance: 0.0560\n"
     ]
    }
   ],
   "source": [
    "import numpy as np\n",
    "\n",
    "# Set the parameters\n",
    "num_samples = 10000\n",
    "sample_size = 50\n",
    "\n",
    "# Log-Normal distribution parameters\n",
    "mu = 0.5\n",
    "sigma = 0.7\n",
    "\n",
    "# Calculate the theoretical mean and variance\n",
    "theoretical_mean = np.exp(mu + (sigma ** 2) / 2)\n",
    "theoretical_variance = (np.exp(sigma ** 2) - 1) * np.exp(2 * mu + sigma ** 2)\n",
    "\n",
    "# Generate samples from the Log-Normal distribution\n",
    "samples = np.random.lognormal(mean=mu, sigma=sigma, size=(num_samples, sample_size))\n",
    "\n",
    "# Calculate the sample means\n",
    "sample_means = np.mean(samples, axis=1)\n",
    "\n",
    "# Calculate the empirical mean and variance of the sample means\n",
    "empirical_mean = np.mean(sample_means)\n",
    "empirical_variance = np.var(sample_means)\n",
    "\n",
    "# Compare the theoretical and empirical values\n",
    "print(f\"Theoretical mean: {theoretical_mean:.4f}\")\n",
    "print(f\"Empirical mean: {empirical_mean:.4f}\")\n",
    "print(f\"\\n\")\n",
    "print(f\"Theoretical variance: {theoretical_variance:.4f}\")\n",
    "print(f\"Empirical variance: {empirical_variance:.4f}\")\n"
   ]
  },
  {
   "cell_type": "code",
   "execution_count": null,
   "metadata": {
    "id": "fAJUPbqD7Vyo"
   },
   "outputs": [],
   "source": [
    "# CLT Case Study"
   ]
  },
  {
   "cell_type": "code",
   "execution_count": null,
   "metadata": {
    "colab": {
     "base_uri": "https://localhost:8080/"
    },
    "id": "uYZgnbUKvqYO",
    "outputId": "c7445d72-948c-4464-8e34-924f1c398ae8"
   },
   "outputs": [
    {
     "name": "stdout",
     "output_type": "stream",
     "text": [
      "Estimated average salary (in thousands): 124.74\n",
      "95% confidence interval (in thousands): (121.23, 128.26)\n"
     ]
    }
   ],
   "source": [
    "import numpy as np\n",
    "\n",
    "# Set the parameters\n",
    "population_size = 100000\n",
    "sample_size = 50\n",
    "num_samples = 100\n",
    "\n",
    "# Generate a random representative sample of salaries (in thousands)\n",
    "# You should replace this with actual collected salary data\n",
    "np.random.seed(42)  # Setting a seed for reproducibility\n",
    "population_salaries = np.random.lognormal(mean=4.5, sigma=0.8, size=population_size)\n",
    "\n",
    "# Generate multiple samples and calculate the sample means and standard deviations\n",
    "sample_means = []\n",
    "sample_std_devs = []\n",
    "\n",
    "for _ in range(num_samples):\n",
    "  sample_salaries = np.random.choice(population_salaries, size=sample_size)\n",
    "  sample_means.append(np.mean(sample_salaries))\n",
    "  sample_std_devs.append(np.std(sample_salaries))\n",
    "\n",
    "# Calculate the average of the sample means and the standard error\n",
    "average_sample_means = np.mean(sample_means)\n",
    "standard_error = np.std(sample_means) / np.sqrt(num_samples)\n",
    "\n",
    "# Calculate the 95% confidence interval\n",
    "margin_of_error = 1.96 * standard_error\n",
    "lower_limit = average_sample_means - margin_of_error\n",
    "upper_limit = average_sample_means + margin_of_error\n",
    "\n",
    "# Report the results\n",
    "print(f\"Estimated average salary (in thousands): {average_sample_means:.2f}\")\n",
    "print(f\"95% confidence interval (in thousands): ({lower_limit:.2f}, {upper_limit:.2f})\")\n"
   ]
  }
 ],
 "metadata": {
  "colab": {
   "provenance": []
  },
  "kernelspec": {
   "display_name": "Python 3 (ipykernel)",
   "language": "python",
   "name": "python3"
  },
  "language_info": {
   "codemirror_mode": {
    "name": "ipython",
    "version": 3
   },
   "file_extension": ".py",
   "mimetype": "text/x-python",
   "name": "python",
   "nbconvert_exporter": "python",
   "pygments_lexer": "ipython3",
   "version": "3.9.12"
  }
 },
 "nbformat": 4,
 "nbformat_minor": 1
}
