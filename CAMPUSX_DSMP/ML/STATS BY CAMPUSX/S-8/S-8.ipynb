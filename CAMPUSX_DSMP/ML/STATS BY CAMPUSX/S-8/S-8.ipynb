{
 "cells": [
  {
   "cell_type": "code",
   "execution_count": 1,
   "id": "1da483f9",
   "metadata": {},
   "outputs": [],
   "source": [
    "# https://www.sjsu.edu/faculty/gerstman/StatPrimer/t-table.pdf"
   ]
  },
  {
   "cell_type": "code",
   "execution_count": 2,
   "id": "1e529398",
   "metadata": {},
   "outputs": [],
   "source": [
    "# https://campusx-official-confidence-interval-viz-app-kwg6wq.streamlit.app\n",
    "# https://campusx-official-z-distribution-conf-confidence-interval-bx6u60.streamlit.app\n",
    "# https://campusx-official-normal-distribution-vs-t-distributi-app-28si1q.streamlit.app"
   ]
  }
 ],
 "metadata": {
  "kernelspec": {
   "display_name": "Python 3 (ipykernel)",
   "language": "python",
   "name": "python3"
  },
  "language_info": {
   "codemirror_mode": {
    "name": "ipython",
    "version": 3
   },
   "file_extension": ".py",
   "mimetype": "text/x-python",
   "name": "python",
   "nbconvert_exporter": "python",
   "pygments_lexer": "ipython3",
   "version": "3.9.12"
  }
 },
 "nbformat": 4,
 "nbformat_minor": 5
}
