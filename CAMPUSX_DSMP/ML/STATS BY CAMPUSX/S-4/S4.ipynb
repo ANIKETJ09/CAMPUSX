{
 "cells": [
  {
   "cell_type": "code",
   "execution_count": 1,
   "id": "aba54f23",
   "metadata": {},
   "outputs": [],
   "source": [
    "# https://samp-suman-normal-dist-visualize-app-lkntug.streamlit.app"
   ]
  },
  {
   "cell_type": "code",
   "execution_count": 2,
   "id": "84ed69f9",
   "metadata": {},
   "outputs": [],
   "source": [
    "# https://www.ztable.net"
   ]
  }
 ],
 "metadata": {
  "kernelspec": {
   "display_name": "Python 3 (ipykernel)",
   "language": "python",
   "name": "python3"
  },
  "language_info": {
   "codemirror_mode": {
    "name": "ipython",
    "version": 3
   },
   "file_extension": ".py",
   "mimetype": "text/x-python",
   "name": "python",
   "nbconvert_exporter": "python",
   "pygments_lexer": "ipython3",
   "version": "3.9.12"
  }
 },
 "nbformat": 4,
 "nbformat_minor": 5
}
