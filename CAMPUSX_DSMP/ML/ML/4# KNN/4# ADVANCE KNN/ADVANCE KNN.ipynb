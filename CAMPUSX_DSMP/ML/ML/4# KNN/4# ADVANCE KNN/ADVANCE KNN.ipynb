{
 "cells": [
  {
   "cell_type": "code",
   "execution_count": null,
   "id": "dabc7a4c",
   "metadata": {},
   "outputs": [],
   "source": [
    "# KNN REGRESOR\n",
    "\n",
    "# If we set K =1 i.e very lower value then it will do the overfitting.i.e low bias.\n",
    "# if we set K= i.e very high value then it will do the underfitting.i.e high bias \n",
    "\n",
    "# See the pic."
   ]
  }
 ],
 "metadata": {
  "kernelspec": {
   "display_name": "Python 3 (ipykernel)",
   "language": "python",
   "name": "python3"
  },
  "language_info": {
   "codemirror_mode": {
    "name": "ipython",
    "version": 3
   },
   "file_extension": ".py",
   "mimetype": "text/x-python",
   "name": "python",
   "nbconvert_exporter": "python",
   "pygments_lexer": "ipython3",
   "version": "3.9.12"
  }
 },
 "nbformat": 4,
 "nbformat_minor": 5
}
